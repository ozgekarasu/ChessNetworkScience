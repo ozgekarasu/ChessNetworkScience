{
  "cells": [
    {
      "cell_type": "markdown",
      "metadata": {
        "id": "view-in-github",
        "colab_type": "text"
      },
      "source": [
        "<a href=\"https://colab.research.google.com/github/ozgekarasu/ChessNetworkScience/blob/main/CreateNetwork.ipynb\" target=\"_parent\"><img src=\"https://colab.research.google.com/assets/colab-badge.svg\" alt=\"Open In Colab\"/></a>"
      ]
    },
    {
      "cell_type": "markdown",
      "metadata": {
        "id": "kYq1oIKI3TxU"
      },
      "source": [
        "# Connecting Google Drive and import necessary libraries\n"
      ]
    },
    {
      "cell_type": "code",
      "execution_count": null,
      "metadata": {
        "colab": {
          "base_uri": "https://localhost:8080/"
        },
        "id": "qQyw0z_PPC54",
        "outputId": "96172ccb-05fb-4f21-d5e9-a801f3922df4"
      },
      "outputs": [
        {
          "name": "stdout",
          "output_type": "stream",
          "text": [
            "Mounted at /content/drive\n"
          ]
        }
      ],
      "source": [
        "from google.colab import drive\n",
        "drive.mount('/content/drive')"
      ]
    },
    {
      "cell_type": "code",
      "execution_count": null,
      "metadata": {
        "colab": {
          "base_uri": "https://localhost:8080/"
        },
        "id": "QHw1fL5q1Mtc",
        "outputId": "32a50e51-aa97-47cd-c585-b2a6ffc05f07"
      },
      "outputs": [
        {
          "name": "stdout",
          "output_type": "stream",
          "text": [
            "Looking in indexes: https://pypi.org/simple, https://us-python.pkg.dev/colab-wheels/public/simple/\n",
            "Collecting python-chess\n",
            "  Downloading python_chess-1.999-py3-none-any.whl (1.4 kB)\n",
            "Collecting chess<2,>=1\n",
            "  Downloading chess-1.9.4-py3-none-any.whl (149 kB)\n",
            "\u001b[2K     \u001b[90m━━━━━━━━━━━━━━━━━━━━━━━━━━━━━━━━━━━━━━━\u001b[0m \u001b[32m149.1/149.1 kB\u001b[0m \u001b[31m4.1 MB/s\u001b[0m eta \u001b[36m0:00:00\u001b[0m\n",
            "\u001b[?25hInstalling collected packages: chess, python-chess\n",
            "Successfully installed chess-1.9.4 python-chess-1.999\n"
          ]
        }
      ],
      "source": [
        "!pip install python-chess"
      ]
    },
    {
      "cell_type": "code",
      "execution_count": null,
      "metadata": {
        "id": "10J3z1m4zzrr"
      },
      "outputs": [],
      "source": [
        "import pandas as pd\n",
        "import chess.pgn\n",
        "import seaborn as sns\n",
        "import pandas as pd\n",
        "import matplotlib.pyplot as plt\n",
        "import numpy as np\n",
        "import networkx as nx\n",
        "import chess\n",
        "from networkx.algorithms import bipartite\n",
        "import itertools"
      ]
    },
    {
      "cell_type": "markdown",
      "metadata": {
        "id": "rV1h3WY32h4i"
      },
      "source": [
        "# open file and read into df"
      ]
    },
    {
      "cell_type": "code",
      "execution_count": null,
      "metadata": {
        "id": "p3tvaleh7Eec"
      },
      "outputs": [],
      "source": [
        "pgn_file = open(\"/content/drive/My Drive/lichess4545-all-s01-33.pgn\")\n",
        "game = chess.pgn.read_game(pgn_file)\n",
        "\n",
        "data = []\n",
        "\n",
        "while game:\n",
        "    headers = game.headers\n",
        "    \n",
        "    eco = headers.get(\"ECO\", \"NoECO\")  # Use the get() method to get the value of \"ECO\", or return \"NoECO\" if it doesn't exist\n",
        "    data.append({\n",
        "        \"Date\": headers[\"Date\"],\n",
        "        \"White\": headers[\"White\"],\n",
        "        \"Black\": headers[\"Black\"],\n",
        "        \"WhiteElo\": headers[\"WhiteElo\"],\n",
        "        \"BlackElo\": headers[\"BlackElo\"],\n",
        "        \"ECO\": eco,  # Use the value of ECO variable\n",
        "        \"Result\": headers[\"Result\"],\n",
        "    })\n",
        "    \n",
        "    game = chess.pgn.read_game(pgn_file)\n",
        "\n",
        "df = pd.DataFrame(data)"
      ]
    },
    {
      "cell_type": "code",
      "execution_count": null,
      "metadata": {
        "colab": {
          "base_uri": "https://localhost:8080/",
          "height": 424
        },
        "id": "WDcENoUd3AuF",
        "outputId": "b7bb311c-626d-45ab-8911-27a492b12b70"
      },
      "outputs": [
        {
          "data": {
            "text/html": [
              "\n",
              "  <div id=\"df-6c71c641-64aa-454f-872d-3d4e50997376\">\n",
              "    <div class=\"colab-df-container\">\n",
              "      <div>\n",
              "<style scoped>\n",
              "    .dataframe tbody tr th:only-of-type {\n",
              "        vertical-align: middle;\n",
              "    }\n",
              "\n",
              "    .dataframe tbody tr th {\n",
              "        vertical-align: top;\n",
              "    }\n",
              "\n",
              "    .dataframe thead th {\n",
              "        text-align: right;\n",
              "    }\n",
              "</style>\n",
              "<table border=\"1\" class=\"dataframe\">\n",
              "  <thead>\n",
              "    <tr style=\"text-align: right;\">\n",
              "      <th></th>\n",
              "      <th>Date</th>\n",
              "      <th>White</th>\n",
              "      <th>Black</th>\n",
              "      <th>WhiteElo</th>\n",
              "      <th>BlackElo</th>\n",
              "      <th>ECO</th>\n",
              "      <th>Result</th>\n",
              "    </tr>\n",
              "  </thead>\n",
              "  <tbody>\n",
              "    <tr>\n",
              "      <th>0</th>\n",
              "      <td>2015.11.01</td>\n",
              "      <td>JTate</td>\n",
              "      <td>theino</td>\n",
              "      <td>1796</td>\n",
              "      <td>1868</td>\n",
              "      <td>E11</td>\n",
              "      <td>1-0</td>\n",
              "    </tr>\n",
              "    <tr>\n",
              "      <th>1</th>\n",
              "      <td>2015.11.01</td>\n",
              "      <td>sprite143</td>\n",
              "      <td>MrLegilimens</td>\n",
              "      <td>1648</td>\n",
              "      <td>1602</td>\n",
              "      <td>A46</td>\n",
              "      <td>1/2-1/2</td>\n",
              "    </tr>\n",
              "    <tr>\n",
              "      <th>2</th>\n",
              "      <td>2015.11.01</td>\n",
              "      <td>buubble</td>\n",
              "      <td>icendoan</td>\n",
              "      <td>1400</td>\n",
              "      <td>1548</td>\n",
              "      <td>B01</td>\n",
              "      <td>0-1</td>\n",
              "    </tr>\n",
              "    <tr>\n",
              "      <th>3</th>\n",
              "      <td>2015.11.01</td>\n",
              "      <td>zezetel</td>\n",
              "      <td>Baybars</td>\n",
              "      <td>1608</td>\n",
              "      <td>1554</td>\n",
              "      <td>B77</td>\n",
              "      <td>0-1</td>\n",
              "    </tr>\n",
              "    <tr>\n",
              "      <th>4</th>\n",
              "      <td>2015.10.31</td>\n",
              "      <td>CheapEndgameTricks</td>\n",
              "      <td>mkoga</td>\n",
              "      <td>1654</td>\n",
              "      <td>1754</td>\n",
              "      <td>B12</td>\n",
              "      <td>0-1</td>\n",
              "    </tr>\n",
              "    <tr>\n",
              "      <th>...</th>\n",
              "      <td>...</td>\n",
              "      <td>...</td>\n",
              "      <td>...</td>\n",
              "      <td>...</td>\n",
              "      <td>...</td>\n",
              "      <td>...</td>\n",
              "      <td>...</td>\n",
              "    </tr>\n",
              "    <tr>\n",
              "      <th>31183</th>\n",
              "      <td>2023.01.24</td>\n",
              "      <td>b_elyay</td>\n",
              "      <td>NLance</td>\n",
              "      <td>2062</td>\n",
              "      <td>2070</td>\n",
              "      <td>C67</td>\n",
              "      <td>0-1</td>\n",
              "    </tr>\n",
              "    <tr>\n",
              "      <th>31184</th>\n",
              "      <td>2023.01.23</td>\n",
              "      <td>M0r1</td>\n",
              "      <td>Astronominoff</td>\n",
              "      <td>1985</td>\n",
              "      <td>1996</td>\n",
              "      <td>B00</td>\n",
              "      <td>0-1</td>\n",
              "    </tr>\n",
              "    <tr>\n",
              "      <th>31185</th>\n",
              "      <td>2023.01.23</td>\n",
              "      <td>pafiedor</td>\n",
              "      <td>glbert</td>\n",
              "      <td>1857</td>\n",
              "      <td>1895</td>\n",
              "      <td>D11</td>\n",
              "      <td>1-0</td>\n",
              "    </tr>\n",
              "    <tr>\n",
              "      <th>31186</th>\n",
              "      <td>2023.01.23</td>\n",
              "      <td>izcms02</td>\n",
              "      <td>aerdna69</td>\n",
              "      <td>1878</td>\n",
              "      <td>1886</td>\n",
              "      <td>D30</td>\n",
              "      <td>1-0</td>\n",
              "    </tr>\n",
              "    <tr>\n",
              "      <th>31187</th>\n",
              "      <td>2023.01.23</td>\n",
              "      <td>Poldi_der_Drache</td>\n",
              "      <td>mo_mo</td>\n",
              "      <td>2006</td>\n",
              "      <td>1975</td>\n",
              "      <td>B01</td>\n",
              "      <td>0-1</td>\n",
              "    </tr>\n",
              "  </tbody>\n",
              "</table>\n",
              "<p>31188 rows × 7 columns</p>\n",
              "</div>\n",
              "      <button class=\"colab-df-convert\" onclick=\"convertToInteractive('df-6c71c641-64aa-454f-872d-3d4e50997376')\"\n",
              "              title=\"Convert this dataframe to an interactive table.\"\n",
              "              style=\"display:none;\">\n",
              "        \n",
              "  <svg xmlns=\"http://www.w3.org/2000/svg\" height=\"24px\"viewBox=\"0 0 24 24\"\n",
              "       width=\"24px\">\n",
              "    <path d=\"M0 0h24v24H0V0z\" fill=\"none\"/>\n",
              "    <path d=\"M18.56 5.44l.94 2.06.94-2.06 2.06-.94-2.06-.94-.94-2.06-.94 2.06-2.06.94zm-11 1L8.5 8.5l.94-2.06 2.06-.94-2.06-.94L8.5 2.5l-.94 2.06-2.06.94zm10 10l.94 2.06.94-2.06 2.06-.94-2.06-.94-.94-2.06-.94 2.06-2.06.94z\"/><path d=\"M17.41 7.96l-1.37-1.37c-.4-.4-.92-.59-1.43-.59-.52 0-1.04.2-1.43.59L10.3 9.45l-7.72 7.72c-.78.78-.78 2.05 0 2.83L4 21.41c.39.39.9.59 1.41.59.51 0 1.02-.2 1.41-.59l7.78-7.78 2.81-2.81c.8-.78.8-2.07 0-2.86zM5.41 20L4 18.59l7.72-7.72 1.47 1.35L5.41 20z\"/>\n",
              "  </svg>\n",
              "      </button>\n",
              "      \n",
              "  <style>\n",
              "    .colab-df-container {\n",
              "      display:flex;\n",
              "      flex-wrap:wrap;\n",
              "      gap: 12px;\n",
              "    }\n",
              "\n",
              "    .colab-df-convert {\n",
              "      background-color: #E8F0FE;\n",
              "      border: none;\n",
              "      border-radius: 50%;\n",
              "      cursor: pointer;\n",
              "      display: none;\n",
              "      fill: #1967D2;\n",
              "      height: 32px;\n",
              "      padding: 0 0 0 0;\n",
              "      width: 32px;\n",
              "    }\n",
              "\n",
              "    .colab-df-convert:hover {\n",
              "      background-color: #E2EBFA;\n",
              "      box-shadow: 0px 1px 2px rgba(60, 64, 67, 0.3), 0px 1px 3px 1px rgba(60, 64, 67, 0.15);\n",
              "      fill: #174EA6;\n",
              "    }\n",
              "\n",
              "    [theme=dark] .colab-df-convert {\n",
              "      background-color: #3B4455;\n",
              "      fill: #D2E3FC;\n",
              "    }\n",
              "\n",
              "    [theme=dark] .colab-df-convert:hover {\n",
              "      background-color: #434B5C;\n",
              "      box-shadow: 0px 1px 3px 1px rgba(0, 0, 0, 0.15);\n",
              "      filter: drop-shadow(0px 1px 2px rgba(0, 0, 0, 0.3));\n",
              "      fill: #FFFFFF;\n",
              "    }\n",
              "  </style>\n",
              "\n",
              "      <script>\n",
              "        const buttonEl =\n",
              "          document.querySelector('#df-6c71c641-64aa-454f-872d-3d4e50997376 button.colab-df-convert');\n",
              "        buttonEl.style.display =\n",
              "          google.colab.kernel.accessAllowed ? 'block' : 'none';\n",
              "\n",
              "        async function convertToInteractive(key) {\n",
              "          const element = document.querySelector('#df-6c71c641-64aa-454f-872d-3d4e50997376');\n",
              "          const dataTable =\n",
              "            await google.colab.kernel.invokeFunction('convertToInteractive',\n",
              "                                                     [key], {});\n",
              "          if (!dataTable) return;\n",
              "\n",
              "          const docLinkHtml = 'Like what you see? Visit the ' +\n",
              "            '<a target=\"_blank\" href=https://colab.research.google.com/notebooks/data_table.ipynb>data table notebook</a>'\n",
              "            + ' to learn more about interactive tables.';\n",
              "          element.innerHTML = '';\n",
              "          dataTable['output_type'] = 'display_data';\n",
              "          await google.colab.output.renderOutput(dataTable, element);\n",
              "          const docLink = document.createElement('div');\n",
              "          docLink.innerHTML = docLinkHtml;\n",
              "          element.appendChild(docLink);\n",
              "        }\n",
              "      </script>\n",
              "    </div>\n",
              "  </div>\n",
              "  "
            ],
            "text/plain": [
              "             Date               White          Black WhiteElo BlackElo  ECO  \\\n",
              "0      2015.11.01               JTate         theino     1796     1868  E11   \n",
              "1      2015.11.01           sprite143   MrLegilimens     1648     1602  A46   \n",
              "2      2015.11.01             buubble       icendoan     1400     1548  B01   \n",
              "3      2015.11.01             zezetel        Baybars     1608     1554  B77   \n",
              "4      2015.10.31  CheapEndgameTricks          mkoga     1654     1754  B12   \n",
              "...           ...                 ...            ...      ...      ...  ...   \n",
              "31183  2023.01.24             b_elyay         NLance     2062     2070  C67   \n",
              "31184  2023.01.23                M0r1  Astronominoff     1985     1996  B00   \n",
              "31185  2023.01.23            pafiedor         glbert     1857     1895  D11   \n",
              "31186  2023.01.23             izcms02       aerdna69     1878     1886  D30   \n",
              "31187  2023.01.23    Poldi_der_Drache          mo_mo     2006     1975  B01   \n",
              "\n",
              "        Result  \n",
              "0          1-0  \n",
              "1      1/2-1/2  \n",
              "2          0-1  \n",
              "3          0-1  \n",
              "4          0-1  \n",
              "...        ...  \n",
              "31183      0-1  \n",
              "31184      0-1  \n",
              "31185      1-0  \n",
              "31186      1-0  \n",
              "31187      0-1  \n",
              "\n",
              "[31188 rows x 7 columns]"
            ]
          },
          "execution_count": 5,
          "metadata": {},
          "output_type": "execute_result"
        }
      ],
      "source": [
        "df"
      ]
    },
    {
      "cell_type": "markdown",
      "metadata": {
        "id": "mE4YG2ym9VG7"
      },
      "source": [
        "## Reverse dataframe"
      ]
    },
    {
      "cell_type": "markdown",
      "metadata": {
        "id": "Y92oY1Tb5hig"
      },
      "source": [
        "Reversed dataframe because the last Elo scores will be taken into account when creating the network."
      ]
    },
    {
      "cell_type": "code",
      "execution_count": null,
      "metadata": {
        "colab": {
          "base_uri": "https://localhost:8080/",
          "height": 424
        },
        "id": "YId-FkZw9cWc",
        "outputId": "c01c5866-613b-475b-9dfa-4671b978c69f"
      },
      "outputs": [
        {
          "data": {
            "text/html": [
              "\n",
              "  <div id=\"df-e84a73dc-1454-4b49-a835-c7fe17a22351\">\n",
              "    <div class=\"colab-df-container\">\n",
              "      <div>\n",
              "<style scoped>\n",
              "    .dataframe tbody tr th:only-of-type {\n",
              "        vertical-align: middle;\n",
              "    }\n",
              "\n",
              "    .dataframe tbody tr th {\n",
              "        vertical-align: top;\n",
              "    }\n",
              "\n",
              "    .dataframe thead th {\n",
              "        text-align: right;\n",
              "    }\n",
              "</style>\n",
              "<table border=\"1\" class=\"dataframe\">\n",
              "  <thead>\n",
              "    <tr style=\"text-align: right;\">\n",
              "      <th></th>\n",
              "      <th>Date</th>\n",
              "      <th>White</th>\n",
              "      <th>Black</th>\n",
              "      <th>WhiteElo</th>\n",
              "      <th>BlackElo</th>\n",
              "      <th>ECO</th>\n",
              "      <th>Result</th>\n",
              "    </tr>\n",
              "  </thead>\n",
              "  <tbody>\n",
              "    <tr>\n",
              "      <th>31187</th>\n",
              "      <td>2023.01.23</td>\n",
              "      <td>Poldi_der_Drache</td>\n",
              "      <td>mo_mo</td>\n",
              "      <td>2006</td>\n",
              "      <td>1975</td>\n",
              "      <td>B01</td>\n",
              "      <td>0-1</td>\n",
              "    </tr>\n",
              "    <tr>\n",
              "      <th>31186</th>\n",
              "      <td>2023.01.23</td>\n",
              "      <td>izcms02</td>\n",
              "      <td>aerdna69</td>\n",
              "      <td>1878</td>\n",
              "      <td>1886</td>\n",
              "      <td>D30</td>\n",
              "      <td>1-0</td>\n",
              "    </tr>\n",
              "    <tr>\n",
              "      <th>31185</th>\n",
              "      <td>2023.01.23</td>\n",
              "      <td>pafiedor</td>\n",
              "      <td>glbert</td>\n",
              "      <td>1857</td>\n",
              "      <td>1895</td>\n",
              "      <td>D11</td>\n",
              "      <td>1-0</td>\n",
              "    </tr>\n",
              "    <tr>\n",
              "      <th>31184</th>\n",
              "      <td>2023.01.23</td>\n",
              "      <td>M0r1</td>\n",
              "      <td>Astronominoff</td>\n",
              "      <td>1985</td>\n",
              "      <td>1996</td>\n",
              "      <td>B00</td>\n",
              "      <td>0-1</td>\n",
              "    </tr>\n",
              "    <tr>\n",
              "      <th>31183</th>\n",
              "      <td>2023.01.24</td>\n",
              "      <td>b_elyay</td>\n",
              "      <td>NLance</td>\n",
              "      <td>2062</td>\n",
              "      <td>2070</td>\n",
              "      <td>C67</td>\n",
              "      <td>0-1</td>\n",
              "    </tr>\n",
              "    <tr>\n",
              "      <th>...</th>\n",
              "      <td>...</td>\n",
              "      <td>...</td>\n",
              "      <td>...</td>\n",
              "      <td>...</td>\n",
              "      <td>...</td>\n",
              "      <td>...</td>\n",
              "      <td>...</td>\n",
              "    </tr>\n",
              "    <tr>\n",
              "      <th>4</th>\n",
              "      <td>2015.10.31</td>\n",
              "      <td>CheapEndgameTricks</td>\n",
              "      <td>mkoga</td>\n",
              "      <td>1654</td>\n",
              "      <td>1754</td>\n",
              "      <td>B12</td>\n",
              "      <td>0-1</td>\n",
              "    </tr>\n",
              "    <tr>\n",
              "      <th>3</th>\n",
              "      <td>2015.11.01</td>\n",
              "      <td>zezetel</td>\n",
              "      <td>Baybars</td>\n",
              "      <td>1608</td>\n",
              "      <td>1554</td>\n",
              "      <td>B77</td>\n",
              "      <td>0-1</td>\n",
              "    </tr>\n",
              "    <tr>\n",
              "      <th>2</th>\n",
              "      <td>2015.11.01</td>\n",
              "      <td>buubble</td>\n",
              "      <td>icendoan</td>\n",
              "      <td>1400</td>\n",
              "      <td>1548</td>\n",
              "      <td>B01</td>\n",
              "      <td>0-1</td>\n",
              "    </tr>\n",
              "    <tr>\n",
              "      <th>1</th>\n",
              "      <td>2015.11.01</td>\n",
              "      <td>sprite143</td>\n",
              "      <td>MrLegilimens</td>\n",
              "      <td>1648</td>\n",
              "      <td>1602</td>\n",
              "      <td>A46</td>\n",
              "      <td>1/2-1/2</td>\n",
              "    </tr>\n",
              "    <tr>\n",
              "      <th>0</th>\n",
              "      <td>2015.11.01</td>\n",
              "      <td>JTate</td>\n",
              "      <td>theino</td>\n",
              "      <td>1796</td>\n",
              "      <td>1868</td>\n",
              "      <td>E11</td>\n",
              "      <td>1-0</td>\n",
              "    </tr>\n",
              "  </tbody>\n",
              "</table>\n",
              "<p>31188 rows × 7 columns</p>\n",
              "</div>\n",
              "      <button class=\"colab-df-convert\" onclick=\"convertToInteractive('df-e84a73dc-1454-4b49-a835-c7fe17a22351')\"\n",
              "              title=\"Convert this dataframe to an interactive table.\"\n",
              "              style=\"display:none;\">\n",
              "        \n",
              "  <svg xmlns=\"http://www.w3.org/2000/svg\" height=\"24px\"viewBox=\"0 0 24 24\"\n",
              "       width=\"24px\">\n",
              "    <path d=\"M0 0h24v24H0V0z\" fill=\"none\"/>\n",
              "    <path d=\"M18.56 5.44l.94 2.06.94-2.06 2.06-.94-2.06-.94-.94-2.06-.94 2.06-2.06.94zm-11 1L8.5 8.5l.94-2.06 2.06-.94-2.06-.94L8.5 2.5l-.94 2.06-2.06.94zm10 10l.94 2.06.94-2.06 2.06-.94-2.06-.94-.94-2.06-.94 2.06-2.06.94z\"/><path d=\"M17.41 7.96l-1.37-1.37c-.4-.4-.92-.59-1.43-.59-.52 0-1.04.2-1.43.59L10.3 9.45l-7.72 7.72c-.78.78-.78 2.05 0 2.83L4 21.41c.39.39.9.59 1.41.59.51 0 1.02-.2 1.41-.59l7.78-7.78 2.81-2.81c.8-.78.8-2.07 0-2.86zM5.41 20L4 18.59l7.72-7.72 1.47 1.35L5.41 20z\"/>\n",
              "  </svg>\n",
              "      </button>\n",
              "      \n",
              "  <style>\n",
              "    .colab-df-container {\n",
              "      display:flex;\n",
              "      flex-wrap:wrap;\n",
              "      gap: 12px;\n",
              "    }\n",
              "\n",
              "    .colab-df-convert {\n",
              "      background-color: #E8F0FE;\n",
              "      border: none;\n",
              "      border-radius: 50%;\n",
              "      cursor: pointer;\n",
              "      display: none;\n",
              "      fill: #1967D2;\n",
              "      height: 32px;\n",
              "      padding: 0 0 0 0;\n",
              "      width: 32px;\n",
              "    }\n",
              "\n",
              "    .colab-df-convert:hover {\n",
              "      background-color: #E2EBFA;\n",
              "      box-shadow: 0px 1px 2px rgba(60, 64, 67, 0.3), 0px 1px 3px 1px rgba(60, 64, 67, 0.15);\n",
              "      fill: #174EA6;\n",
              "    }\n",
              "\n",
              "    [theme=dark] .colab-df-convert {\n",
              "      background-color: #3B4455;\n",
              "      fill: #D2E3FC;\n",
              "    }\n",
              "\n",
              "    [theme=dark] .colab-df-convert:hover {\n",
              "      background-color: #434B5C;\n",
              "      box-shadow: 0px 1px 3px 1px rgba(0, 0, 0, 0.15);\n",
              "      filter: drop-shadow(0px 1px 2px rgba(0, 0, 0, 0.3));\n",
              "      fill: #FFFFFF;\n",
              "    }\n",
              "  </style>\n",
              "\n",
              "      <script>\n",
              "        const buttonEl =\n",
              "          document.querySelector('#df-e84a73dc-1454-4b49-a835-c7fe17a22351 button.colab-df-convert');\n",
              "        buttonEl.style.display =\n",
              "          google.colab.kernel.accessAllowed ? 'block' : 'none';\n",
              "\n",
              "        async function convertToInteractive(key) {\n",
              "          const element = document.querySelector('#df-e84a73dc-1454-4b49-a835-c7fe17a22351');\n",
              "          const dataTable =\n",
              "            await google.colab.kernel.invokeFunction('convertToInteractive',\n",
              "                                                     [key], {});\n",
              "          if (!dataTable) return;\n",
              "\n",
              "          const docLinkHtml = 'Like what you see? Visit the ' +\n",
              "            '<a target=\"_blank\" href=https://colab.research.google.com/notebooks/data_table.ipynb>data table notebook</a>'\n",
              "            + ' to learn more about interactive tables.';\n",
              "          element.innerHTML = '';\n",
              "          dataTable['output_type'] = 'display_data';\n",
              "          await google.colab.output.renderOutput(dataTable, element);\n",
              "          const docLink = document.createElement('div');\n",
              "          docLink.innerHTML = docLinkHtml;\n",
              "          element.appendChild(docLink);\n",
              "        }\n",
              "      </script>\n",
              "    </div>\n",
              "  </div>\n",
              "  "
            ],
            "text/plain": [
              "             Date               White          Black WhiteElo BlackElo  ECO  \\\n",
              "31187  2023.01.23    Poldi_der_Drache          mo_mo     2006     1975  B01   \n",
              "31186  2023.01.23             izcms02       aerdna69     1878     1886  D30   \n",
              "31185  2023.01.23            pafiedor         glbert     1857     1895  D11   \n",
              "31184  2023.01.23                M0r1  Astronominoff     1985     1996  B00   \n",
              "31183  2023.01.24             b_elyay         NLance     2062     2070  C67   \n",
              "...           ...                 ...            ...      ...      ...  ...   \n",
              "4      2015.10.31  CheapEndgameTricks          mkoga     1654     1754  B12   \n",
              "3      2015.11.01             zezetel        Baybars     1608     1554  B77   \n",
              "2      2015.11.01             buubble       icendoan     1400     1548  B01   \n",
              "1      2015.11.01           sprite143   MrLegilimens     1648     1602  A46   \n",
              "0      2015.11.01               JTate         theino     1796     1868  E11   \n",
              "\n",
              "        Result  \n",
              "31187      0-1  \n",
              "31186      1-0  \n",
              "31185      1-0  \n",
              "31184      0-1  \n",
              "31183      0-1  \n",
              "...        ...  \n",
              "4          0-1  \n",
              "3          0-1  \n",
              "2          0-1  \n",
              "1      1/2-1/2  \n",
              "0          1-0  \n",
              "\n",
              "[31188 rows x 7 columns]"
            ]
          },
          "execution_count": 6,
          "metadata": {},
          "output_type": "execute_result"
        }
      ],
      "source": [
        "df = df.iloc[::-1]\n",
        "df"
      ]
    },
    {
      "cell_type": "markdown",
      "metadata": {
        "id": "W6wGnkZw4d8X"
      },
      "source": [
        "## Check the classes of objects"
      ]
    },
    {
      "cell_type": "markdown",
      "metadata": {
        "id": "buTvzvVn4j0v"
      },
      "source": [
        "When we look at the table below, we can see that Elo scores are kept as strings. We need to convert these scores to integers."
      ]
    },
    {
      "cell_type": "code",
      "execution_count": null,
      "metadata": {
        "colab": {
          "base_uri": "https://localhost:8080/"
        },
        "id": "6ZSzzWi-HXz3",
        "outputId": "69ee157a-449f-41a1-9524-3d1c85aa3c74"
      },
      "outputs": [
        {
          "name": "stdout",
          "output_type": "stream",
          "text": [
            "                Date          White          Black       WhiteElo  \\\n",
            "31187  <class 'str'>  <class 'str'>  <class 'str'>  <class 'str'>   \n",
            "31186  <class 'str'>  <class 'str'>  <class 'str'>  <class 'str'>   \n",
            "31185  <class 'str'>  <class 'str'>  <class 'str'>  <class 'str'>   \n",
            "31184  <class 'str'>  <class 'str'>  <class 'str'>  <class 'str'>   \n",
            "31183  <class 'str'>  <class 'str'>  <class 'str'>  <class 'str'>   \n",
            "...              ...            ...            ...            ...   \n",
            "4      <class 'str'>  <class 'str'>  <class 'str'>  <class 'str'>   \n",
            "3      <class 'str'>  <class 'str'>  <class 'str'>  <class 'str'>   \n",
            "2      <class 'str'>  <class 'str'>  <class 'str'>  <class 'str'>   \n",
            "1      <class 'str'>  <class 'str'>  <class 'str'>  <class 'str'>   \n",
            "0      <class 'str'>  <class 'str'>  <class 'str'>  <class 'str'>   \n",
            "\n",
            "            BlackElo            ECO         Result  \n",
            "31187  <class 'str'>  <class 'str'>  <class 'str'>  \n",
            "31186  <class 'str'>  <class 'str'>  <class 'str'>  \n",
            "31185  <class 'str'>  <class 'str'>  <class 'str'>  \n",
            "31184  <class 'str'>  <class 'str'>  <class 'str'>  \n",
            "31183  <class 'str'>  <class 'str'>  <class 'str'>  \n",
            "...              ...            ...            ...  \n",
            "4      <class 'str'>  <class 'str'>  <class 'str'>  \n",
            "3      <class 'str'>  <class 'str'>  <class 'str'>  \n",
            "2      <class 'str'>  <class 'str'>  <class 'str'>  \n",
            "1      <class 'str'>  <class 'str'>  <class 'str'>  \n",
            "0      <class 'str'>  <class 'str'>  <class 'str'>  \n",
            "\n",
            "[31188 rows x 7 columns]\n"
          ]
        }
      ],
      "source": [
        "print(df.applymap(type))"
      ]
    },
    {
      "cell_type": "code",
      "execution_count": null,
      "metadata": {
        "id": "n4nxSXGQm4fr"
      },
      "outputs": [],
      "source": [
        "df['WhiteElo'] = df['WhiteElo'].astype(int)\n",
        "df['BlackElo'] = df['BlackElo'].astype(int)"
      ]
    },
    {
      "cell_type": "markdown",
      "metadata": {
        "id": "m-kITeCU6N5q"
      },
      "source": [
        "## Number of NoECOs in the dataframe"
      ]
    },
    {
      "cell_type": "code",
      "execution_count": null,
      "metadata": {
        "colab": {
          "base_uri": "https://localhost:8080/"
        },
        "id": "r17Hc7H86SBq",
        "outputId": "c1d6485f-2de7-4711-bf2e-680ac0d75b3b"
      },
      "outputs": [
        {
          "name": "stdout",
          "output_type": "stream",
          "text": [
            "Number of 'NoECO's: 0\n"
          ]
        }
      ],
      "source": [
        "count_no_opening = df[df['ECO'] == 'NoECO'].shape[0]\n",
        "print(\"Number of 'NoECO's:\", count_no_opening)"
      ]
    },
    {
      "cell_type": "markdown",
      "metadata": {
        "id": "AMB2_zv96WtX"
      },
      "source": [
        "Each game has the information of \"ECO\", therefore there is no need to exclude any game from the dataset."
      ]
    },
    {
      "cell_type": "markdown",
      "metadata": {
        "id": "NTg1Cl7A8uEg"
      },
      "source": [
        "## Examine the data"
      ]
    },
    {
      "cell_type": "markdown",
      "metadata": {
        "id": "kPUqfaqo6vlX"
      },
      "source": [
        "There are 3498 players in the dataset:"
      ]
    },
    {
      "cell_type": "code",
      "execution_count": null,
      "metadata": {
        "colab": {
          "base_uri": "https://localhost:8080/"
        },
        "id": "WS0l5b4D34Hm",
        "outputId": "f886f819-b673-44b1-b0ce-d3f0bf42d354"
      },
      "outputs": [
        {
          "name": "stdout",
          "output_type": "stream",
          "text": [
            "3498\n"
          ]
        }
      ],
      "source": [
        "players = pd.concat([df['White'], df['Black']]).unique()\n",
        "print(len(players))"
      ]
    },
    {
      "cell_type": "markdown",
      "metadata": {
        "id": "IvDnxrZS69x5"
      },
      "source": [
        "There are 473 openings:"
      ]
    },
    {
      "cell_type": "code",
      "execution_count": null,
      "metadata": {
        "colab": {
          "base_uri": "https://localhost:8080/"
        },
        "id": "ktMEMBiUT3Dz",
        "outputId": "98a46f57-b5b5-4f28-f5db-2a638b3a5dfc"
      },
      "outputs": [
        {
          "name": "stdout",
          "output_type": "stream",
          "text": [
            "473\n"
          ]
        }
      ],
      "source": [
        "openings = df[\"ECO\"].unique()\n",
        "print(len(openings))"
      ]
    },
    {
      "cell_type": "code",
      "execution_count": null,
      "metadata": {
        "colab": {
          "base_uri": "https://localhost:8080/"
        },
        "id": "zXpnRAfk-HVW",
        "outputId": "0b71d779-81f0-452b-ec73-27e4289c5b5f"
      },
      "outputs": [
        {
          "name": "stdout",
          "output_type": "stream",
          "text": [
            "['B01' 'D30' 'D11' 'B00' 'C67' 'B12' 'A45' 'B33' 'B21' 'B30' 'A04' 'D00'\n",
            " 'E12' 'A01' 'C82' 'E04' 'C01' 'D85' 'C47' 'B22' 'C74' 'B10' 'B27' 'E77'\n",
            " 'D01' 'E38' 'B15' 'C51' 'C55' 'C45' 'D31' 'D15' 'A37' 'C60' 'C00' 'C88'\n",
            " 'B99' 'B06' 'B13' 'D92' 'A84' 'D10' 'B36' 'B51' 'A96' 'C69' 'C65' 'D35'\n",
            " 'C02' 'A10' 'D45' 'A48' 'C24' 'A57' 'D91' 'A20' 'E61' 'D87' 'C77' 'A02'\n",
            " 'C53' 'C43' 'C33' 'E49' 'C46' 'B32' 'A09' 'C42' 'A40' 'B14' 'D37' 'A14'\n",
            " 'D02' 'A35' 'B31' 'C92' 'D43' 'E06' 'A18' 'D20' 'A23' 'B46' 'B48' 'E35'\n",
            " 'C36' 'B38' 'B90' 'C28' 'B94' 'D78' 'D41' 'E73' 'A05' 'B23' 'E01' 'B20'\n",
            " 'B40' 'B35' 'B02' 'B44' 'D05' 'E14' 'E94' 'A22' 'A58' 'B69' 'E30' 'C06'\n",
            " 'B25' 'D59' 'E15' 'D04' 'A06' 'C21' 'C44' 'C50' 'B08' 'C25' 'E20' 'A00'\n",
            " 'C10' 'B39' 'A36' 'D21' 'A16' 'C29' 'D40' 'D34' 'B11' 'A30' 'C09' 'B03'\n",
            " 'C80' 'A80' 'B24' 'B07' 'D07' 'A07' 'D96' 'B17' 'E19' 'E48' 'B50' 'B56'\n",
            " 'A68' 'D81' 'C26' 'C87' 'B42' 'D50' 'D80' 'C63' 'D44' 'E43' 'E11' 'C15'\n",
            " 'E46' 'C05' 'A31' 'D13' 'E64' 'A85' 'D27' 'D32' 'B37' 'C31' 'C78' 'B76'\n",
            " 'B18' 'D58' 'E07' 'A03' 'B87' 'E60' 'A25' 'B52' 'C11' 'D38' 'C23' 'C03'\n",
            " 'B95' 'C57' 'C84' 'E26' 'A52' 'D17' 'A28' 'E28' 'B54' 'E71' 'A41' 'C89'\n",
            " 'C07' 'D71' 'B57' 'A49' 'C90' 'A34' 'A88' 'E10' 'C54' 'D79' 'A13' 'B26'\n",
            " 'A15' 'D08' 'B72' 'A65' 'E68' 'E25' 'C41' 'C58' 'E81' 'B28' 'C34' 'A59'\n",
            " 'A46' 'C91' 'E41' 'B34' 'E80' 'A43' 'E97' 'C70' 'D06' 'B96' 'E23' 'D97'\n",
            " 'C18' 'B78' 'E90' 'D12' 'D14' 'A32' 'B43' 'E67' 'E18' 'D09' 'C48' 'B47'\n",
            " 'E00' 'B67' 'E66' 'E32' 'E70' 'C95' 'E17' 'E63' 'C27' 'D56' 'B75' 'A21'\n",
            " 'E22' 'B41' 'A81' 'A51' 'D52' 'C52' 'A08' 'A50' 'C04' 'A70' 'B70' 'B53'\n",
            " 'C85' 'D03' 'E62' 'B19' 'E92' 'A12' 'B77' 'C40' 'D23' 'A39' 'D36' 'C62'\n",
            " 'B92' 'D53' 'D55' 'D18' 'A17' 'E91' 'B93' 'A56' 'D47' 'D90' 'A53' 'E21'\n",
            " 'A11' 'C12' 'E98' 'E53' 'C68' 'D19' 'E83' 'D48' 'C59' 'B68' 'A62' 'D16'\n",
            " 'D26' 'A33' 'D70' 'E08' 'E85' 'A83' 'E05' 'A77' 'C72' 'A55' 'E65' 'B98'\n",
            " 'C17' 'C97' 'C56' 'D66' 'B45' 'E76' 'E09' 'E50' 'B29' 'D77' 'C19' 'A67'\n",
            " 'A29' 'D60' 'B55' 'C49' 'A61' 'C30' 'D88' 'D25' 'E24' 'C14' 'E16' 'A60'\n",
            " 'B04' 'D33' 'A66' 'D51' 'C20' 'A54' 'B05' 'D46' 'E75' 'A82' 'B62' 'D63'\n",
            " 'C79' 'D86' 'E34' 'C16' 'B09' 'C66' 'A86' 'A91' 'C86' 'E40' 'E47' 'B49'\n",
            " 'C64' 'B91' 'D39' 'B59' 'A87' 'C81' 'A69' 'C22' 'B66' 'B58' 'C96' 'A24'\n",
            " 'B73' 'A38' 'B63' 'C08' 'A47' 'C37' 'D93' 'A42' 'C61' 'C35' 'E42' 'A71'\n",
            " 'E27' 'A44' 'D94' 'B89' 'D75' 'C13' 'D24' 'E56' 'D89' 'C98' 'B84' 'E58'\n",
            " 'B74' 'B71' 'B60' 'E54' 'C99' 'D74' 'A73' 'B88' 'B86' 'E44' 'D83' 'E39'\n",
            " 'A76' 'A90' 'E84' 'E87' 'E36' 'D22' 'B97' 'E55' 'A64' 'D62' 'B80' 'E74'\n",
            " 'D28' 'E03' 'A19' 'C76' 'A97' 'E51' 'E89' 'E02' 'C39' 'D95' 'E95' 'A89'\n",
            " 'D61' 'A75' 'E59' 'D76' 'B65' 'A27' 'D82' 'E33' 'B81' 'E52' 'B16' 'E37'\n",
            " 'D67' 'A92' 'A95' 'A78' 'E45' 'E99' 'D73' 'E88' 'D42' 'C32' 'C94' 'E69'\n",
            " 'C93' 'D49' 'C71' 'D57' 'C75' 'E82' 'B85' 'B82' 'C73' 'B79' 'E57' 'A74'\n",
            " 'B64' 'A93' 'B83' 'C38' 'E29']\n"
          ]
        }
      ],
      "source": [
        "print(df[\"ECO\"].unique())"
      ]
    },
    {
      "cell_type": "code",
      "execution_count": null,
      "metadata": {
        "colab": {
          "base_uri": "https://localhost:8080/"
        },
        "id": "JAYF1xmnw1wJ",
        "outputId": "6df774ec-d974-40a5-b029-8968344aaef1"
      },
      "outputs": [
        {
          "name": "stdout",
          "output_type": "stream",
          "text": [
            "Number of players with Elo between 800 and 1200: 273\n",
            "Number of players with Elo between 1201 and 1600: 5027\n",
            "Number of players with Elo between 1601 and 2000: 21020\n",
            "Number of players with Elo between 2001 and 2400: 8896\n"
          ]
        }
      ],
      "source": [
        "\n",
        "elo_ranges = [(800, 1200), (1201, 1600), (1601, 2000), (2001, 2400)]\n",
        "\n",
        "for elo_range in elo_ranges:\n",
        "    count = (((df['WhiteElo'] >= elo_range[0]) & (df['WhiteElo'] <= elo_range[1])) \\\n",
        "          | ((df['BlackElo'] >= elo_range[0]) & (df['BlackElo'] <= elo_range[1])) \\\n",
        "          ).sum()\n",
        "    print(f\"Number of players with Elo between {elo_range[0]} and {elo_range[1]}: {count}\")"
      ]
    },
    {
      "cell_type": "code",
      "execution_count": null,
      "metadata": {
        "colab": {
          "base_uri": "https://localhost:8080/"
        },
        "id": "idAD71BGyZML",
        "outputId": "4e50a379-8534-4a6d-fd72-b9af92191e84"
      },
      "outputs": [
        {
          "name": "stdout",
          "output_type": "stream",
          "text": [
            "Maximum WhiteElo: 2549\n",
            "Minimum WhiteElo: 802\n"
          ]
        }
      ],
      "source": [
        "df['WhiteElo'] = df['WhiteElo'].astype(int)\n",
        "df['BlackElo'] = df['BlackElo'].astype(int)\n",
        "\n",
        "max_white_elo = df['WhiteElo'].max()\n",
        "print(f\"Maximum WhiteElo: {max_white_elo}\")\n",
        "min_white_elo = df['WhiteElo'].min()\n",
        "print(f\"Minimum WhiteElo: {min_white_elo}\")"
      ]
    },
    {
      "cell_type": "code",
      "execution_count": null,
      "metadata": {
        "colab": {
          "base_uri": "https://localhost:8080/"
        },
        "id": "ULxP8uVjydI6",
        "outputId": "08e4551d-4d0d-41c7-930a-5b7dc7dc2456"
      },
      "outputs": [
        {
          "name": "stdout",
          "output_type": "stream",
          "text": [
            "Maximum BlackElo: 2641\n",
            "Minimum BlackElo: 806\n"
          ]
        }
      ],
      "source": [
        "df['BlackElo'] = df['BlackElo'].astype(int)\n",
        "\n",
        "max_black_elo = df['BlackElo'].max()\n",
        "print(f\"Maximum BlackElo: {max_black_elo}\")\n",
        "\n",
        "min_black_elo = df['BlackElo'].min()\n",
        "print(f\"Minimum BlackElo: {min_black_elo}\")"
      ]
    },
    {
      "cell_type": "markdown",
      "metadata": {
        "id": "9dBfSQDgVzsH"
      },
      "source": [
        "# Create Network"
      ]
    },
    {
      "cell_type": "markdown",
      "metadata": {
        "id": "M68lJjOEmq9p"
      },
      "source": [
        "## Bipartite Opening - Player Network"
      ]
    },
    {
      "cell_type": "code",
      "execution_count": null,
      "metadata": {
        "id": "h-AWEZ4VpJqi"
      },
      "outputs": [],
      "source": [
        "B = nx.Graph()\n",
        "\n",
        "# Add nodes with the player attribute \"bipartite=0\", and attribute label=\"player\"\n",
        "B.add_nodes_from(df['White'].unique(), bipartite=0, label='player', elo=0)\n",
        "B.add_nodes_from(df['Black'].unique(), bipartite=0, label='player', elo=0)\n",
        "\n",
        "# Add nodes with the opening attribute \"bipartite=1\", and attribute label=\"ECO\"\n",
        "B.add_nodes_from(df['ECO'].unique(), bipartite=1, label='ECO', ECOtype=None,\n",
        "                 elo_800_1200=0, elo_1201_1600=0, elo_1601_2000=0, elo_2001_2400=0)\n",
        "\n",
        "# Add edges between players and openings\n",
        "for index, row in df.iterrows():\n",
        "    white_player, black_player, opening = row['White'], row['Black'], row['ECO']\n",
        "    white_elo, black_elo = row['WhiteElo'], row['BlackElo']\n",
        "    \n",
        "    # White player\n",
        "    if B.has_edge(white_player, opening):\n",
        "        B[white_player][opening]['weight'] += 1\n",
        "    else:\n",
        "        B.add_edge(white_player, opening, weight=1)\n",
        "    \n",
        "    # Black player\n",
        "    if B.has_edge(black_player, opening):\n",
        "        B[black_player][opening]['weight'] += 1\n",
        "    else:\n",
        "        B.add_edge(black_player, opening, weight=1)\n",
        "\n",
        "    # Update Elo scores if they are equal to 0\n",
        "    if B.nodes[white_player]['elo'] == 0:\n",
        "        B.nodes[white_player]['elo'] = white_elo\n",
        "    if B.nodes[black_player]['elo'] == 0:\n",
        "        B.nodes[black_player]['elo'] = black_elo\n",
        "    \n",
        "    # Update ECOtype attribute within the loop\n",
        "    if B.nodes[opening]['ECOtype'] is None:\n",
        "        B.nodes[opening]['ECOtype'] = opening[0]\n",
        "\n",
        "    # Update the ECO node attributes based on the Elo ratings of the players\n",
        "    for player_elo in [white_elo, black_elo]:\n",
        "        if 800 <= player_elo <= 1200:\n",
        "            B.nodes[opening]['elo_800_1200'] += 1\n",
        "        elif 1201 <= player_elo <= 1600:\n",
        "            B.nodes[opening]['elo_1201_1600'] += 1\n",
        "        elif 1601 <= player_elo <= 2000:\n",
        "            B.nodes[opening]['elo_1601_2000'] += 1\n",
        "        elif 2001 <= player_elo <= 2400:\n",
        "            B.nodes[opening]['elo_2001_2400'] += 1"
      ]
    },
    {
      "cell_type": "code",
      "execution_count": null,
      "metadata": {
        "colab": {
          "base_uri": "https://localhost:8080/"
        },
        "id": "soFlzAx3w8JR",
        "outputId": "4c05c869-f445-49b5-83eb-360a6c19d2ed"
      },
      "outputs": [
        {
          "name": "stdout",
          "output_type": "stream",
          "text": [
            "True\n"
          ]
        }
      ],
      "source": [
        "# Check if the graph is bipartite\n",
        "print(nx.bipartite.is_bipartite(B))  # Supposed to be True"
      ]
    },
    {
      "cell_type": "code",
      "execution_count": null,
      "metadata": {
        "id": "jU9rY-YpJbXw"
      },
      "outputs": [],
      "source": [
        "nx.write_gexf(B, \"/content/drive/My Drive/BiperGraph.gexf\", encoding='utf-8')"
      ]
    },
    {
      "cell_type": "markdown",
      "metadata": {
        "id": "GvIFmIz6xCwd"
      },
      "source": [
        "## Project players from the graph"
      ]
    },
    {
      "cell_type": "code",
      "execution_count": null,
      "metadata": {
        "id": "_5XJri9YxB9m"
      },
      "outputs": [],
      "source": [
        "# Project the player nodes from the bipartite graph\n",
        "player_nodes = {node for node, data in B.nodes(data=True) if data['bipartite'] == 0}\n",
        "player_projected_graph = nx.bipartite.projected_graph(B, player_nodes)"
      ]
    },
    {
      "cell_type": "code",
      "execution_count": null,
      "metadata": {
        "colab": {
          "base_uri": "https://localhost:8080/"
        },
        "id": "vACdPeUIyCSb",
        "outputId": "413f4e9b-be98-4c0f-e3f6-6348b2189a0a"
      },
      "outputs": [
        {
          "name": "stdout",
          "output_type": "stream",
          "text": [
            "False\n"
          ]
        }
      ],
      "source": [
        "# Check if the graph is bipartite\n",
        "print(nx.bipartite.is_bipartite(player_projected_graph))  # Supposed to be False"
      ]
    },
    {
      "cell_type": "code",
      "execution_count": null,
      "metadata": {
        "id": "ETYsmkRKxwKQ"
      },
      "outputs": [],
      "source": [
        "nx.write_gexf(player_projected_graph, \"/content/drive/My Drive/PlayerProjectedGraph.gexf\", encoding='utf-8')"
      ]
    },
    {
      "cell_type": "markdown",
      "metadata": {
        "id": "A0WR9C2ux1wu"
      },
      "source": [
        "## Project ECOs from the Graph"
      ]
    },
    {
      "cell_type": "code",
      "execution_count": null,
      "metadata": {
        "id": "TeY5hBGix6ma"
      },
      "outputs": [],
      "source": [
        "# Project the ECO nodes from the bipartite graph\n",
        "ECO_nodes = {node for node, data in B.nodes(data=True) if data['bipartite'] == 1}\n",
        "ECO_projected_graph = nx.bipartite.projected_graph(B, ECO_nodes)"
      ]
    },
    {
      "cell_type": "code",
      "execution_count": null,
      "metadata": {
        "colab": {
          "base_uri": "https://localhost:8080/"
        },
        "id": "e5AAQhSpx9_j",
        "outputId": "a16efc92-3c79-427a-ebf2-be18f20e478f"
      },
      "outputs": [
        {
          "name": "stdout",
          "output_type": "stream",
          "text": [
            "False\n"
          ]
        }
      ],
      "source": [
        "# Check if the graph is bipartite\n",
        "print(nx.bipartite.is_bipartite(ECO_projected_graph))  # Supposed to be False"
      ]
    },
    {
      "cell_type": "code",
      "execution_count": null,
      "metadata": {
        "id": "AO7Pivf6yKyU"
      },
      "outputs": [],
      "source": [
        "nx.write_gexf(ECO_projected_graph, \"/content/drive/My Drive/OpeningProjectedGraph.gexf\", encoding='utf-8')"
      ]
    },
    {
      "cell_type": "markdown",
      "metadata": {
        "id": "bTLdSGEuzXGP"
      },
      "source": [
        "## Projection of openings based on ECO Type (A/B/C/D/E)"
      ]
    },
    {
      "cell_type": "code",
      "execution_count": null,
      "metadata": {
        "id": "4W5BV-2OzcfR"
      },
      "outputs": [],
      "source": [
        "ECO_projected_graphs = {}\n",
        "\n",
        "for eco_type in ['A', 'B', 'C', 'D', 'E']:\n",
        "    # Filter ECO nodes with the given ECOtype\n",
        "    filtered_ECO_nodes = {node for node, data in B.nodes(data=True) if data['bipartite'] == 1 and data['ECOtype'] == eco_type}\n",
        "    \n",
        "    # Project the filtered ECO nodes from the bipartite graph\n",
        "    ECO_projected_graph = nx.bipartite.projected_graph(B, filtered_ECO_nodes)\n",
        "    \n",
        "    # Save the projected graph to the dictionary with the key as the ECOtype\n",
        "    ECO_projected_graphs[eco_type] = ECO_projected_graph\n",
        "\n",
        "# Save each ECO type projection to a separate variable\n",
        "ECO_A_projected_graph = ECO_projected_graphs['A']\n",
        "ECO_B_projected_graph = ECO_projected_graphs['B']\n",
        "ECO_C_projected_graph = ECO_projected_graphs['C']\n",
        "ECO_D_projected_graph = ECO_projected_graphs['D']\n",
        "ECO_E_projected_graph = ECO_projected_graphs['E']\n"
      ]
    },
    {
      "cell_type": "code",
      "execution_count": null,
      "metadata": {
        "colab": {
          "base_uri": "https://localhost:8080/"
        },
        "id": "ssqR1ttyz-YP",
        "outputId": "9e4beac3-41ba-4661-b9e2-cd94c9533da0"
      },
      "outputs": [
        {
          "name": "stdout",
          "output_type": "stream",
          "text": [
            "False\n"
          ]
        }
      ],
      "source": [
        "# Check if the graph is bipartite\n",
        "print(nx.bipartite.is_bipartite(ECO_A_projected_graph))  # Supposed to be False"
      ]
    },
    {
      "cell_type": "code",
      "execution_count": null,
      "metadata": {
        "id": "C3hj6rk91ToS"
      },
      "outputs": [],
      "source": [
        "nx.write_gexf(ECO_A_projected_graph, \"/content/drive/My Drive/OpeningProjectedGraphTYPE_A.gexf\", encoding='utf-8')\n",
        "nx.write_gexf(ECO_B_projected_graph, \"/content/drive/My Drive/OpeningProjectedGraphTYPE_B.gexf\", encoding='utf-8')\n",
        "nx.write_gexf(ECO_C_projected_graph, \"/content/drive/My Drive/OpeningProjectedGraphTYPE_C.gexf\", encoding='utf-8')\n",
        "nx.write_gexf(ECO_D_projected_graph, \"/content/drive/My Drive/OpeningProjectedGraphTYPE_D.gexf\", encoding='utf-8')\n",
        "nx.write_gexf(ECO_E_projected_graph, \"/content/drive/My Drive/OpeningProjectedGraphTYPE_E.gexf\", encoding='utf-8')"
      ]
    },
    {
      "cell_type": "markdown",
      "metadata": {
        "id": "Lzc1svFL0EHG"
      },
      "source": [
        "## Projection of Players based on Elo Ratings (800-1200/1201-1600/1601-2000/2001-2400)"
      ]
    },
    {
      "cell_type": "code",
      "execution_count": null,
      "metadata": {
        "id": "t75FP3LU1QXk"
      },
      "outputs": [],
      "source": [
        "player_projected_graphs = {}\n",
        "\n",
        "elo_ranges = [\n",
        "    (800, 1200),\n",
        "    (1201, 1600),\n",
        "    (1601, 2000),\n",
        "    (2001, 2400),\n",
        "]\n",
        "\n",
        "for elo_range in elo_ranges:\n",
        "    min_elo, max_elo = elo_range\n",
        "\n",
        "    # Filter player nodes within the given Elo range\n",
        "    filtered_player_nodes = {node for node, data in B.nodes(data=True) if data['bipartite'] == 0 and min_elo <= data['elo'] <= max_elo}\n",
        "    \n",
        "    # Project the filtered player nodes from the bipartite graph\n",
        "    player_projected_graph = nx.bipartite.projected_graph(B, filtered_player_nodes)\n",
        "    \n",
        "    # Save the projected graph to the dictionary with the key as the Elo range\n",
        "    player_projected_graphs[elo_range] = player_projected_graph\n",
        "\n",
        "# Save each Elo range projection to a separate variable\n",
        "players_800_1200_projected_graph = player_projected_graphs[(800, 1200)]\n",
        "players_1201_1600_projected_graph = player_projected_graphs[(1201, 1600)]\n",
        "players_1601_2000_projected_graph = player_projected_graphs[(1601, 2000)]\n",
        "players_2001_2400_projected_graph = player_projected_graphs[(2001, 2400)]"
      ]
    },
    {
      "cell_type": "code",
      "execution_count": null,
      "metadata": {
        "id": "PIFxc-bY2Fz7"
      },
      "outputs": [],
      "source": [
        "nx.write_gexf(players_800_1200_projected_graph, \"/content/drive/My Drive/players_800_1200_projected_graph.gexf\", encoding='utf-8')\n",
        "nx.write_gexf(players_1201_1600_projected_graph, \"/content/drive/My Drive/players_1201_1600_projected_graph.gexf\", encoding='utf-8')\n",
        "nx.write_gexf(players_1601_2000_projected_graph, \"/content/drive/My Drive/players_1601_2000_projected_graph.gexf\", encoding='utf-8')\n",
        "nx.write_gexf(players_2001_2400_projected_graph, \"/content/drive/My Drive/players_2001_2400_projected_graph.gexf\", encoding='utf-8')"
      ]
    }
  ],
  "metadata": {
    "colab": {
      "provenance": [],
      "include_colab_link": true
    },
    "kernelspec": {
      "display_name": "Python 3",
      "name": "python3"
    },
    "language_info": {
      "name": "python"
    }
  },
  "nbformat": 4,
  "nbformat_minor": 0
}